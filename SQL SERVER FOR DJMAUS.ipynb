{
 "cells": [
  {
   "cell_type": "code",
   "execution_count": 1,
   "id": "331f8277",
   "metadata": {},
   "outputs": [],
   "source": [
    "import pandas as pd\n",
    "import numpy as np\n",
    "import matplotlib as plt"
   ]
  },
  {
   "cell_type": "code",
   "execution_count": 15,
   "id": "2bb3b851",
   "metadata": {},
   "outputs": [
    {
     "name": "stdout",
     "output_type": "stream",
     "text": [
      "Collecting mysql-connector-python\n",
      "  Downloading mysql_connector_python-8.0.32-cp39-cp39-win_amd64.whl (7.9 MB)\n",
      "     ---------------------------------------- 7.9/7.9 MB 829.7 kB/s eta 0:00:00\n",
      "Collecting protobuf<=3.20.3,>=3.11.0\n",
      "  Downloading protobuf-3.20.3-cp39-cp39-win_amd64.whl (904 kB)\n",
      "     ------------------------------------ 904.2/904.2 kB 953.1 kB/s eta 0:00:00\n",
      "Installing collected packages: protobuf, mysql-connector-python\n",
      "Successfully installed mysql-connector-python-8.0.32 protobuf-3.20.3\n",
      "Note: you may need to restart the kernel to use updated packages.\n"
     ]
    }
   ],
   "source": [
    "pip install mysql-connector-python"
   ]
  },
  {
   "cell_type": "code",
   "execution_count": 17,
   "id": "a3169920",
   "metadata": {},
   "outputs": [],
   "source": [
    "import mysql.connector\n",
    "from mysql.connector import Error"
   ]
  },
  {
   "cell_type": "code",
   "execution_count": 18,
   "id": "577ff74d",
   "metadata": {},
   "outputs": [],
   "source": [
    "def create_server_connection(host_name, user_name, user_password):\n",
    "    connection = None\n",
    "    try:\n",
    "        connection = mysql.connector.connect(\n",
    "            host=host_name,\n",
    "            user=user_name,\n",
    "            passwd=user_password\n",
    "        )\n",
    "        print(\"MySQL Database connection successful\")\n",
    "    except Error as err:\n",
    "        print(f\"Error: '{err}'\")\n",
    "\n",
    "    return connection"
   ]
  },
  {
   "cell_type": "code",
   "execution_count": 21,
   "id": "07d06bbb",
   "metadata": {
    "scrolled": true
   },
   "outputs": [
    {
     "name": "stdout",
     "output_type": "stream",
     "text": [
      "MySQL Database connection successful\n"
     ]
    }
   ],
   "source": [
    "connection = create_server_connection(\"localhost\", \"root\", '432156')"
   ]
  },
  {
   "cell_type": "code",
   "execution_count": 22,
   "id": "1254e69f",
   "metadata": {},
   "outputs": [],
   "source": [
    "# Here I create a new database DJMEED!"
   ]
  },
  {
   "cell_type": "code",
   "execution_count": 24,
   "id": "15d9a61d",
   "metadata": {},
   "outputs": [],
   "source": [
    "def create_database(connection, query):\n",
    "    cursor = connection.cursor()\n",
    "    try:\n",
    "        cursor.execute(query)\n",
    "        print(\"Database created successfully\")\n",
    "    except Error as err:\n",
    "        print(f\"Error: '{err}'\")"
   ]
  },
  {
   "cell_type": "code",
   "execution_count": 26,
   "id": "3d1b14fd",
   "metadata": {},
   "outputs": [
    {
     "name": "stdout",
     "output_type": "stream",
     "text": [
      "Database created successfully\n"
     ]
    }
   ],
   "source": [
    "create_database_query=\"CREATE DATABASE djmeed\"\n",
    "create_database(connection, create_database_query)"
   ]
  },
  {
   "cell_type": "code",
   "execution_count": 27,
   "id": "84e14463",
   "metadata": {},
   "outputs": [],
   "source": [
    "# Anu DJMEED, lets connect to new database"
   ]
  },
  {
   "cell_type": "code",
   "execution_count": 28,
   "id": "1c4ef8ca",
   "metadata": {},
   "outputs": [],
   "source": [
    "def create_db_connection(host_name, user_name, user_password, db_name):\n",
    "    connection = None\n",
    "    try:\n",
    "        connection = mysql.connector.connect(\n",
    "            host=host_name,\n",
    "            user=user_name,\n",
    "            passwd=user_password,\n",
    "            database=db_name\n",
    "        )\n",
    "        print(\"MySQL Database connection successful\")\n",
    "    except Error as err:\n",
    "        print(f\"Error: '{err}'\")\n",
    "\n",
    "    return connection"
   ]
  },
  {
   "cell_type": "code",
   "execution_count": 30,
   "id": "5e050276",
   "metadata": {
    "scrolled": true
   },
   "outputs": [
    {
     "name": "stdout",
     "output_type": "stream",
     "text": [
      "MySQL Database connection successful\n"
     ]
    }
   ],
   "source": [
    "connection = create_db_connection(\"localhost\", \"root\", '432156', 'djmeed')"
   ]
  },
  {
   "cell_type": "code",
   "execution_count": null,
   "id": "58bd1de8",
   "metadata": {},
   "outputs": [],
   "source": [
    "# Taak nah, now lets execute our querry"
   ]
  },
  {
   "cell_type": "code",
   "execution_count": 31,
   "id": "58f2c3d6",
   "metadata": {},
   "outputs": [],
   "source": [
    "def execute_query(connection, query):\n",
    "    cursor = connection.cursor()\n",
    "    try:\n",
    "        cursor.execute(query)\n",
    "        connection.commit()\n",
    "        print(\"Query successful\")\n",
    "    except Error as err:\n",
    "        print(f\"Error: '{err}'\")"
   ]
  },
  {
   "cell_type": "code",
   "execution_count": 58,
   "id": "4c99dc7e",
   "metadata": {},
   "outputs": [],
   "source": [
    "create_teacher_table = \"\"\"\n",
    "CREATE TABLE teacher (\n",
    "  teacher_id INT PRIMARY KEY,\n",
    "  first_name VARCHAR(40) NOT NULL,\n",
    "  last_name VARCHAR(40) NOT NULL,\n",
    "  language_1 VARCHAR(3) NOT NULL,\n",
    "  language_2 VARCHAR(3),\n",
    "  dob DATE,\n",
    "  tax_id INT UNIQUE,\n",
    "  phone_no VARCHAR(20)\n",
    "  );\n",
    "  \"\"\""
   ]
  },
  {
   "cell_type": "code",
   "execution_count": 59,
   "id": "9183a783",
   "metadata": {},
   "outputs": [
    {
     "name": "stdout",
     "output_type": "stream",
     "text": [
      "Error: '1050 (42S01): Table 'teacher' already exists'\n"
     ]
    }
   ],
   "source": [
    "execute_query(connection, create_teacher_table) # Execute our defined query"
   ]
  },
  {
   "cell_type": "code",
   "execution_count": 37,
   "id": "c27c7b4e",
   "metadata": {},
   "outputs": [],
   "source": [
    "# Adding more tables to database DJMEED! DJ MEED! )))"
   ]
  },
  {
   "cell_type": "code",
   "execution_count": 60,
   "id": "0a712026",
   "metadata": {},
   "outputs": [
    {
     "name": "stdout",
     "output_type": "stream",
     "text": [
      "Error: '1050 (42S01): Table 'client' already exists'\n",
      "Error: '1050 (42S01): Table 'participant' already exists'\n",
      "Error: '1050 (42S01): Table 'course' already exists'\n"
     ]
    }
   ],
   "source": [
    "create_client_table = \"\"\"\n",
    "CREATE TABLE client (\n",
    "  client_id INT PRIMARY KEY,\n",
    "  client_name VARCHAR(40) NOT NULL,\n",
    "  address VARCHAR(60) NOT NULL,\n",
    "  industry VARCHAR(20)\n",
    ");\n",
    " \"\"\"\n",
    "\n",
    "create_participant_table = \"\"\"\n",
    "CREATE TABLE participant (\n",
    "  participant_id INT PRIMARY KEY,\n",
    "  first_name VARCHAR(40) NOT NULL,\n",
    "  last_name VARCHAR(40) NOT NULL,\n",
    "  phone_no VARCHAR(20),\n",
    "  client INT\n",
    ");\n",
    "\"\"\"\n",
    "\n",
    "create_course_table = \"\"\"\n",
    "CREATE TABLE course (\n",
    "  course_id INT PRIMARY KEY,\n",
    "  course_name VARCHAR(40) NOT NULL,\n",
    "  language VARCHAR(3) NOT NULL,\n",
    "  level VARCHAR(2),\n",
    "  course_length_weeks INT,\n",
    "  start_date DATE,\n",
    "  in_school BOOLEAN,\n",
    "  teacher INT,\n",
    "  client INT\n",
    ");\n",
    "\"\"\"\n",
    "\n",
    "execute_query(connection, create_client_table)\n",
    "execute_query(connection, create_participant_table)\n",
    "execute_query(connection, create_course_table)"
   ]
  },
  {
   "cell_type": "code",
   "execution_count": 43,
   "id": "09e027d4",
   "metadata": {},
   "outputs": [],
   "source": [
    "# Anuka DJMEED, let's define the relationships between them and create one more table to handle the many-to-many relationship between the participant and course tables"
   ]
  },
  {
   "cell_type": "code",
   "execution_count": 62,
   "id": "2474456d",
   "metadata": {},
   "outputs": [
    {
     "name": "stdout",
     "output_type": "stream",
     "text": [
      "Query successful\n",
      "Query successful\n",
      "Query successful\n",
      "Error: '1050 (42S01): Table 'takes_course' already exists'\n"
     ]
    }
   ],
   "source": [
    "alter_participant = \"\"\"\n",
    "ALTER TABLE participant\n",
    "ADD FOREIGN KEY(client)\n",
    "REFERENCES client(client_id)\n",
    "ON DELETE SET NULL;\n",
    "\"\"\"\n",
    "\n",
    "alter_course = \"\"\"\n",
    "ALTER TABLE course\n",
    "ADD FOREIGN KEY(teacher)\n",
    "REFERENCES teacher(teacher_id)\n",
    "ON DELETE SET NULL;\n",
    "\"\"\"\n",
    "\n",
    "alter_course_again = \"\"\"\n",
    "ALTER TABLE course\n",
    "ADD FOREIGN KEY(client)\n",
    "REFERENCES client(client_id)\n",
    "ON DELETE SET NULL;\n",
    "\"\"\"\n",
    "\n",
    "create_takescourse_table = \"\"\"\n",
    "CREATE TABLE takes_course (\n",
    "  participant_id INT,\n",
    "  course_id INT,\n",
    "  PRIMARY KEY(participant_id, course_id),\n",
    "  FOREIGN KEY(participant_id) REFERENCES participant(participant_id) ON DELETE CASCADE,\n",
    "  FOREIGN KEY(course_id) REFERENCES course(course_id) ON DELETE CASCADE\n",
    ");\n",
    "\"\"\"\n",
    "\n",
    "execute_query(connection, alter_participant)\n",
    "execute_query(connection, alter_course)\n",
    "execute_query(connection, alter_course_again)\n",
    "execute_query(connection, create_takescourse_table)"
   ]
  },
  {
   "cell_type": "code",
   "execution_count": 63,
   "id": "32d2d41b",
   "metadata": {},
   "outputs": [],
   "source": [
    "# OTAK DJMEED, Now our tables are created, along with the appropriate constraints, primary key, and foreign key relations."
   ]
  },
  {
   "cell_type": "code",
   "execution_count": 65,
   "id": "7e8e0851",
   "metadata": {},
   "outputs": [],
   "source": [
    "# Shas vot, I am goin gto add some data into a table"
   ]
  },
  {
   "cell_type": "code",
   "execution_count": 67,
   "id": "c70d52bd",
   "metadata": {},
   "outputs": [
    {
     "name": "stdout",
     "output_type": "stream",
     "text": [
      "MySQL Database connection successful\n",
      "Query successful\n"
     ]
    }
   ],
   "source": [
    "pop_teacher = \"\"\"\n",
    "INSERT INTO teacher VALUES\n",
    "(1,  'James', 'Smith', 'ENG', NULL, '1985-04-20', 12345, '+491774553676'),\n",
    "(2, 'Stefanie',  'Martin',  'FRA', NULL,  '1970-02-17', 23456, '+491234567890'), \n",
    "(3, 'Steve', 'Wang',  'MAN', 'ENG', '1990-11-12', 34567, '+447840921333'),\n",
    "(4, 'Friederike',  'Müller-Rossi', 'DEU', 'ITA', '1987-07-07',  45678, '+492345678901'),\n",
    "(5, 'Isobel', 'Ivanova', 'RUS', 'ENG', '1963-05-30',  56789, '+491772635467'),\n",
    "(6, 'Niamh', 'Murphy', 'ENG', 'IRI', '1995-09-08',  67890, '+491231231232');\n",
    "\"\"\"\n",
    "\n",
    "connection = create_db_connection(\"localhost\", \"root\", '432156', 'djmeed')\n",
    "execute_query(connection, pop_teacher)"
   ]
  },
  {
   "cell_type": "code",
   "execution_count": 68,
   "id": "1acb138d",
   "metadata": {},
   "outputs": [],
   "source": [
    "# Anuka shas I am going ot add more data to other tanbles DJMEED!"
   ]
  },
  {
   "cell_type": "code",
   "execution_count": 69,
   "id": "7fcfefa5",
   "metadata": {},
   "outputs": [
    {
     "name": "stdout",
     "output_type": "stream",
     "text": [
      "Query successful\n",
      "Query successful\n",
      "Query successful\n",
      "Query successful\n"
     ]
    }
   ],
   "source": [
    "pop_client = \"\"\"\n",
    "INSERT INTO client VALUES\n",
    "(101, 'Big Business Federation', '123 Falschungstraße, 10999 Berlin', 'NGO'),\n",
    "(102, 'eCommerce GmbH', '27 Ersatz Allee, 10317 Berlin', 'Retail'),\n",
    "(103, 'AutoMaker AG',  '20 Künstlichstraße, 10023 Berlin', 'Auto'),\n",
    "(104, 'Banko Bank',  '12 Betrugstraße, 12345 Berlin', 'Banking'),\n",
    "(105, 'WeMoveIt GmbH', '138 Arglistweg, 10065 Berlin', 'Logistics');\n",
    "\"\"\"\n",
    "\n",
    "pop_participant = \"\"\"\n",
    "INSERT INTO participant VALUES\n",
    "(101, 'Marina', 'Berg','491635558182', 101),\n",
    "(102, 'Andrea', 'Duerr', '49159555740', 101),\n",
    "(103, 'Philipp', 'Probst',  '49155555692', 102),\n",
    "(104, 'René',  'Brandt',  '4916355546',  102),\n",
    "(105, 'Susanne', 'Shuster', '49155555779', 102),\n",
    "(106, 'Christian', 'Schreiner', '49162555375', 101),\n",
    "(107, 'Harry', 'Kim', '49177555633', 101),\n",
    "(108, 'Jan', 'Nowak', '49151555824', 101),\n",
    "(109, 'Pablo', 'Garcia',  '49162555176', 101),\n",
    "(110, 'Melanie', 'Dreschler', '49151555527', 103),\n",
    "(111, 'Dieter', 'Durr',  '49178555311', 103),\n",
    "(112, 'Max', 'Mustermann', '49152555195', 104),\n",
    "(113, 'Maxine', 'Mustermann', '49177555355', 104),\n",
    "(114, 'Heiko', 'Fleischer', '49155555581', 105);\n",
    "\"\"\"\n",
    "\n",
    "pop_course = \"\"\"\n",
    "INSERT INTO course VALUES\n",
    "(12, 'English for Logistics', 'ENG', 'A1', 10, '2020-02-01', TRUE,  1, 105),\n",
    "(13, 'Beginner English', 'ENG', 'A2', 40, '2019-11-12',  FALSE, 6, 101),\n",
    "(14, 'Intermediate English', 'ENG', 'B2', 40, '2019-11-12', FALSE, 6, 101),\n",
    "(15, 'Advanced English', 'ENG', 'C1', 40, '2019-11-12', FALSE, 6, 101),\n",
    "(16, 'Mandarin für Autoindustrie', 'MAN', 'B1', 15, '2020-01-15', TRUE, 3, 103),\n",
    "(17, 'Français intermédiaire', 'FRA', 'B1',  18, '2020-04-03', FALSE, 2, 101),\n",
    "(18, 'Deutsch für Anfänger', 'DEU', 'A2', 8, '2020-02-14', TRUE, 4, 102),\n",
    "(19, 'Intermediate English', 'ENG', 'B2', 10, '2020-03-29', FALSE, 1, 104),\n",
    "(20, 'Fortgeschrittenes Russisch', 'RUS', 'C1',  4, '2020-04-08',  FALSE, 5, 103);\n",
    "\"\"\"\n",
    "\n",
    "pop_takescourse = \"\"\"\n",
    "INSERT INTO takes_course VALUES\n",
    "(101, 15),\n",
    "(101, 17),\n",
    "(102, 17),\n",
    "(103, 18),\n",
    "(104, 18),\n",
    "(105, 18),\n",
    "(106, 13),\n",
    "(107, 13),\n",
    "(108, 13),\n",
    "(109, 14),\n",
    "(109, 15),\n",
    "(110, 16),\n",
    "(110, 20),\n",
    "(111, 16),\n",
    "(114, 12),\n",
    "(112, 19),\n",
    "(113, 19);\n",
    "\"\"\"\n",
    "\n",
    "execute_query(connection, pop_client)\n",
    "execute_query(connection, pop_participant)\n",
    "execute_query(connection, pop_course)\n",
    "execute_query(connection, pop_takescourse)"
   ]
  },
  {
   "cell_type": "code",
   "execution_count": 70,
   "id": "03e29225",
   "metadata": {},
   "outputs": [],
   "source": [
    "# OTAK JMEEDU, now I am going to read this shit! I guess we need cursor.fetchall() function"
   ]
  },
  {
   "cell_type": "code",
   "execution_count": 71,
   "id": "8b2acb53",
   "metadata": {},
   "outputs": [],
   "source": [
    "def read_query(connection, query):\n",
    "    cursor = connection.cursor()\n",
    "    result = None\n",
    "    try:\n",
    "        cursor.execute(query)\n",
    "        result = cursor.fetchall()\n",
    "        return result\n",
    "    except Error as err:\n",
    "        print(f\"Error: '{err}'\")"
   ]
  },
  {
   "cell_type": "code",
   "execution_count": 72,
   "id": "933d9ba4",
   "metadata": {
    "scrolled": true
   },
   "outputs": [
    {
     "name": "stdout",
     "output_type": "stream",
     "text": [
      "MySQL Database connection successful\n",
      "(1, 'James', 'Smith', 'ENG', None, datetime.date(1985, 4, 20), 12345, '+491774553676')\n",
      "(2, 'Stefanie', 'Martin', 'FRA', None, datetime.date(1970, 2, 17), 23456, '+491234567890')\n",
      "(3, 'Steve', 'Wang', 'MAN', 'ENG', datetime.date(1990, 11, 12), 34567, '+447840921333')\n",
      "(4, 'Friederike', 'Müller-Rossi', 'DEU', 'ITA', datetime.date(1987, 7, 7), 45678, '+492345678901')\n",
      "(5, 'Isobel', 'Ivanova', 'RUS', 'ENG', datetime.date(1963, 5, 30), 56789, '+491772635467')\n",
      "(6, 'Niamh', 'Murphy', 'ENG', 'IRI', datetime.date(1995, 9, 8), 67890, '+491231231232')\n"
     ]
    }
   ],
   "source": [
    "q1 = \"\"\"\n",
    "SELECT *\n",
    "FROM teacher;\n",
    "\"\"\"\n",
    "\n",
    "connection = create_db_connection(\"localhost\", \"root\", '432156', 'djmeed')\n",
    "results = read_query(connection, q1)\n",
    "\n",
    "for result in results:\n",
    "  print(result)"
   ]
  },
  {
   "cell_type": "code",
   "execution_count": 76,
   "id": "d4cedadd",
   "metadata": {},
   "outputs": [],
   "source": [
    "# Anuka djmeed, something more complex like JOIN"
   ]
  },
  {
   "cell_type": "code",
   "execution_count": 85,
   "id": "880aedc9",
   "metadata": {},
   "outputs": [
    {
     "name": "stdout",
     "output_type": "stream",
     "text": [
      "(13, 'Beginner English', 'ENG', 'Big Business Federation', '123 Falschungstraße, 10999 Berlin')\n",
      "(14, 'Intermediate English', 'ENG', 'Big Business Federation', '123 Falschungstraße, 10999 Berlin')\n",
      "(15, 'Advanced English', 'ENG', 'Big Business Federation', '123 Falschungstraße, 10999 Berlin')\n",
      "(17, 'Français intermédiaire', 'FRA', 'Big Business Federation', '123 Falschungstraße, 10999 Berlin')\n",
      "(19, 'Intermediate English', 'ENG', 'Banko Bank', '12 Betrugstraße, 12345 Berlin')\n",
      "(20, 'Fortgeschrittenes Russisch', 'RUS', 'AutoMaker AG', '20 Künstlichstraße, 10023 Berlin')\n"
     ]
    }
   ],
   "source": [
    "q5 = \"\"\"\n",
    "SELECT course.course_id, course.course_name, course.language, client.client_name, client.address\n",
    "FROM course\n",
    "JOIN client\n",
    "ON course.client = client.client_id\n",
    "WHERE course.in_school = FALSE;\n",
    "\"\"\"\n",
    "\n",
    "results = read_query(connection, q5)\n",
    "\n",
    "for result in results:\n",
    "  print(result)"
   ]
  },
  {
   "cell_type": "code",
   "execution_count": 86,
   "id": "24a65393",
   "metadata": {},
   "outputs": [],
   "source": [
    "#Initialise empty list\n",
    "from_db = []\n",
    "\n",
    "# Loop over the results and append them into our list\n",
    "\n",
    "# Returns a list of tuples\n",
    "for result in results:\n",
    "  result = result\n",
    "  from_db.append(result)"
   ]
  },
  {
   "cell_type": "code",
   "execution_count": 84,
   "id": "0f42dff4",
   "metadata": {
    "scrolled": true
   },
   "outputs": [
    {
     "name": "stdout",
     "output_type": "stream",
     "text": [
      "[(13, 'Beginner English', 'ENG', 'Big Business Federation', '123 Falschungstraße, 10999 Berlin'), (14, 'Intermediate English', 'ENG', 'Big Business Federation', '123 Falschungstraße, 10999 Berlin'), (15, 'Advanced English', 'ENG', 'Big Business Federation', '123 Falschungstraße, 10999 Berlin'), (17, 'Français intermédiaire', 'FRA', 'Big Business Federation', '123 Falschungstraße, 10999 Berlin'), (19, 'Intermediate English', 'ENG', 'Banko Bank', '12 Betrugstraße, 12345 Berlin'), (20, 'Fortgeschrittenes Russisch', 'RUS', 'AutoMaker AG', '20 Künstlichstraße, 10023 Berlin')]\n"
     ]
    }
   ],
   "source": [
    "print(from_db)"
   ]
  },
  {
   "cell_type": "code",
   "execution_count": 89,
   "id": "557a0fb5",
   "metadata": {},
   "outputs": [],
   "source": [
    "# Returns a list of lists!\n",
    "from_db = []\n",
    "\n",
    "for result in results:\n",
    "  result = list(result)\n",
    "  from_db.append(result)"
   ]
  },
  {
   "cell_type": "code",
   "execution_count": 90,
   "id": "4aba5e97",
   "metadata": {},
   "outputs": [
    {
     "name": "stdout",
     "output_type": "stream",
     "text": [
      "[[13, 'Beginner English', 'ENG', 'Big Business Federation', '123 Falschungstraße, 10999 Berlin'], [14, 'Intermediate English', 'ENG', 'Big Business Federation', '123 Falschungstraße, 10999 Berlin'], [15, 'Advanced English', 'ENG', 'Big Business Federation', '123 Falschungstraße, 10999 Berlin'], [17, 'Français intermédiaire', 'FRA', 'Big Business Federation', '123 Falschungstraße, 10999 Berlin'], [19, 'Intermediate English', 'ENG', 'Banko Bank', '12 Betrugstraße, 12345 Berlin'], [20, 'Fortgeschrittenes Russisch', 'RUS', 'AutoMaker AG', '20 Künstlichstraße, 10023 Berlin']]\n"
     ]
    }
   ],
   "source": [
    "print(from_db)"
   ]
  },
  {
   "cell_type": "code",
   "execution_count": 91,
   "id": "471475df",
   "metadata": {},
   "outputs": [],
   "source": [
    "# Returns a list of lists and then creates a pandas DataFrame\n",
    "from_db = []\n",
    "\n",
    "for result in results:\n",
    "  result = list(result)\n",
    "  from_db.append(result)\n",
    "\n",
    "\n",
    "columns = [\"course_id\", \"course_name\", \"language\", \"client_name\", \"address\"]\n",
    "df = pd.DataFrame(from_db, columns=columns)"
   ]
  },
  {
   "cell_type": "code",
   "execution_count": 94,
   "id": "14b535ab",
   "metadata": {},
   "outputs": [
    {
     "data": {
      "text/html": [
       "<div>\n",
       "<style scoped>\n",
       "    .dataframe tbody tr th:only-of-type {\n",
       "        vertical-align: middle;\n",
       "    }\n",
       "\n",
       "    .dataframe tbody tr th {\n",
       "        vertical-align: top;\n",
       "    }\n",
       "\n",
       "    .dataframe thead th {\n",
       "        text-align: right;\n",
       "    }\n",
       "</style>\n",
       "<table border=\"1\" class=\"dataframe\">\n",
       "  <thead>\n",
       "    <tr style=\"text-align: right;\">\n",
       "      <th></th>\n",
       "      <th>course_id</th>\n",
       "      <th>course_name</th>\n",
       "      <th>language</th>\n",
       "      <th>client_name</th>\n",
       "      <th>address</th>\n",
       "    </tr>\n",
       "  </thead>\n",
       "  <tbody>\n",
       "    <tr>\n",
       "      <th>0</th>\n",
       "      <td>13</td>\n",
       "      <td>Beginner English</td>\n",
       "      <td>ENG</td>\n",
       "      <td>Big Business Federation</td>\n",
       "      <td>123 Falschungstraße, 10999 Berlin</td>\n",
       "    </tr>\n",
       "    <tr>\n",
       "      <th>1</th>\n",
       "      <td>14</td>\n",
       "      <td>Intermediate English</td>\n",
       "      <td>ENG</td>\n",
       "      <td>Big Business Federation</td>\n",
       "      <td>123 Falschungstraße, 10999 Berlin</td>\n",
       "    </tr>\n",
       "    <tr>\n",
       "      <th>2</th>\n",
       "      <td>15</td>\n",
       "      <td>Advanced English</td>\n",
       "      <td>ENG</td>\n",
       "      <td>Big Business Federation</td>\n",
       "      <td>123 Falschungstraße, 10999 Berlin</td>\n",
       "    </tr>\n",
       "    <tr>\n",
       "      <th>3</th>\n",
       "      <td>17</td>\n",
       "      <td>Français intermédiaire</td>\n",
       "      <td>FRA</td>\n",
       "      <td>Big Business Federation</td>\n",
       "      <td>123 Falschungstraße, 10999 Berlin</td>\n",
       "    </tr>\n",
       "    <tr>\n",
       "      <th>4</th>\n",
       "      <td>19</td>\n",
       "      <td>Intermediate English</td>\n",
       "      <td>ENG</td>\n",
       "      <td>Banko Bank</td>\n",
       "      <td>12 Betrugstraße, 12345 Berlin</td>\n",
       "    </tr>\n",
       "    <tr>\n",
       "      <th>5</th>\n",
       "      <td>20</td>\n",
       "      <td>Fortgeschrittenes Russisch</td>\n",
       "      <td>RUS</td>\n",
       "      <td>AutoMaker AG</td>\n",
       "      <td>20 Künstlichstraße, 10023 Berlin</td>\n",
       "    </tr>\n",
       "  </tbody>\n",
       "</table>\n",
       "</div>"
      ],
      "text/plain": [
       "   course_id                 course_name language              client_name  \\\n",
       "0         13            Beginner English      ENG  Big Business Federation   \n",
       "1         14        Intermediate English      ENG  Big Business Federation   \n",
       "2         15            Advanced English      ENG  Big Business Federation   \n",
       "3         17      Français intermédiaire      FRA  Big Business Federation   \n",
       "4         19        Intermediate English      ENG               Banko Bank   \n",
       "5         20  Fortgeschrittenes Russisch      RUS             AutoMaker AG   \n",
       "\n",
       "                             address  \n",
       "0  123 Falschungstraße, 10999 Berlin  \n",
       "1  123 Falschungstraße, 10999 Berlin  \n",
       "2  123 Falschungstraße, 10999 Berlin  \n",
       "3  123 Falschungstraße, 10999 Berlin  \n",
       "4      12 Betrugstraße, 12345 Berlin  \n",
       "5   20 Künstlichstraße, 10023 Berlin  "
      ]
     },
     "metadata": {},
     "output_type": "display_data"
    }
   ],
   "source": [
    "display(df)"
   ]
  },
  {
   "cell_type": "code",
   "execution_count": 95,
   "id": "4552a9b2",
   "metadata": {},
   "outputs": [],
   "source": [
    "# Updating records"
   ]
  },
  {
   "cell_type": "code",
   "execution_count": 97,
   "id": "a8e2bdb1",
   "metadata": {},
   "outputs": [
    {
     "name": "stdout",
     "output_type": "stream",
     "text": [
      "Query successful\n"
     ]
    }
   ],
   "source": [
    "update = \"\"\"\n",
    "UPDATE client \n",
    "SET address = '23 Fingiertweg, 14534 Berlin' \n",
    "WHERE client_id = 101;\n",
    "\"\"\"\n",
    "\n",
    "execute_query(connection, update)"
   ]
  },
  {
   "cell_type": "code",
   "execution_count": 98,
   "id": "be1c9b4c",
   "metadata": {},
   "outputs": [],
   "source": [
    "# OTAK DJMEED, look I am going to delete records"
   ]
  },
  {
   "cell_type": "code",
   "execution_count": 99,
   "id": "35ca633b",
   "metadata": {},
   "outputs": [
    {
     "name": "stdout",
     "output_type": "stream",
     "text": [
      "(12, 'English for Logistics', 'ENG', 'A1', 10, datetime.date(2020, 2, 1), 1, 1, 105)\n",
      "(13, 'Beginner English', 'ENG', 'A2', 40, datetime.date(2019, 11, 12), 0, 6, 101)\n",
      "(14, 'Intermediate English', 'ENG', 'B2', 40, datetime.date(2019, 11, 12), 0, 6, 101)\n",
      "(15, 'Advanced English', 'ENG', 'C1', 40, datetime.date(2019, 11, 12), 0, 6, 101)\n",
      "(16, 'Mandarin für Autoindustrie', 'MAN', 'B1', 15, datetime.date(2020, 1, 15), 1, 3, 103)\n",
      "(17, 'Français intermédiaire', 'FRA', 'B1', 18, datetime.date(2020, 4, 3), 0, 2, 101)\n",
      "(18, 'Deutsch für Anfänger', 'DEU', 'A2', 8, datetime.date(2020, 2, 14), 1, 4, 102)\n",
      "(19, 'Intermediate English', 'ENG', 'B2', 10, datetime.date(2020, 3, 29), 0, 1, 104)\n",
      "(20, 'Fortgeschrittenes Russisch', 'RUS', 'C1', 4, datetime.date(2020, 4, 8), 0, 5, 103)\n"
     ]
    }
   ],
   "source": [
    "q1 = \"\"\"\n",
    "SELECT *\n",
    "FROM course;\n",
    "\"\"\"\n",
    "\n",
    "results = read_query(connection, q1)\n",
    "\n",
    "from_db=[]\n",
    "\n",
    "for result in results:\n",
    "  print(result)"
   ]
  },
  {
   "cell_type": "code",
   "execution_count": 105,
   "id": "b9c4ad96",
   "metadata": {},
   "outputs": [
    {
     "name": "stdout",
     "output_type": "stream",
     "text": [
      "Query successful\n"
     ]
    }
   ],
   "source": [
    "# PALI DJMEED, I am deleting Francais! \n",
    "delete_course = \"\"\"\n",
    "DELETE FROM course \n",
    "WHERE course_id = 17;\n",
    "\"\"\"\n",
    "\n",
    "execute_query(connection, delete_course)"
   ]
  },
  {
   "cell_type": "code",
   "execution_count": 106,
   "id": "b538f8da",
   "metadata": {},
   "outputs": [
    {
     "name": "stdout",
     "output_type": "stream",
     "text": [
      "(12, 'English for Logistics', 'ENG', 'A1', 10, datetime.date(2020, 2, 1), 1, 1, 105)\n",
      "(13, 'Beginner English', 'ENG', 'A2', 40, datetime.date(2019, 11, 12), 0, 6, 101)\n",
      "(14, 'Intermediate English', 'ENG', 'B2', 40, datetime.date(2019, 11, 12), 0, 6, 101)\n",
      "(15, 'Advanced English', 'ENG', 'C1', 40, datetime.date(2019, 11, 12), 0, 6, 101)\n",
      "(16, 'Mandarin für Autoindustrie', 'MAN', 'B1', 15, datetime.date(2020, 1, 15), 1, 3, 103)\n",
      "(18, 'Deutsch für Anfänger', 'DEU', 'A2', 8, datetime.date(2020, 2, 14), 1, 4, 102)\n",
      "(19, 'Intermediate English', 'ENG', 'B2', 10, datetime.date(2020, 3, 29), 0, 1, 104)\n",
      "(20, 'Fortgeschrittenes Russisch', 'RUS', 'C1', 4, datetime.date(2020, 4, 8), 0, 5, 103)\n"
     ]
    }
   ],
   "source": [
    "q1 = \"\"\"\n",
    "SELECT *\n",
    "FROM course;\n",
    "\"\"\"\n",
    "\n",
    "results = read_query(connection, q1)\n",
    "\n",
    "from_db=[]\n",
    "\n",
    "for result in results:\n",
    "  print(result)"
   ]
  },
  {
   "cell_type": "code",
   "execution_count": 108,
   "id": "853ac373",
   "metadata": {},
   "outputs": [],
   "source": [
    "# Also we can delete entire columns using DROP COLUMN and whole tables using DROP TABLE commands, \n",
    "# but we will not cover those in this tutorial."
   ]
  },
  {
   "cell_type": "code",
   "execution_count": 109,
   "id": "3adc10ab",
   "metadata": {},
   "outputs": [],
   "source": [
    "# ITOG DJMEED, I can create entire new database, tables and records\n",
    "# read - exract data from a database, and store that data in multiple formats\n",
    "# update - make changes to existing records in database\n",
    "# delete - remove records if needed"
   ]
  },
  {
   "cell_type": "code",
   "execution_count": null,
   "id": "6e62f6c1",
   "metadata": {},
   "outputs": [],
   "source": []
  }
 ],
 "metadata": {
  "kernelspec": {
   "display_name": "Python 3 (ipykernel)",
   "language": "python",
   "name": "python3"
  },
  "language_info": {
   "codemirror_mode": {
    "name": "ipython",
    "version": 3
   },
   "file_extension": ".py",
   "mimetype": "text/x-python",
   "name": "python",
   "nbconvert_exporter": "python",
   "pygments_lexer": "ipython3",
   "version": "3.9.13"
  }
 },
 "nbformat": 4,
 "nbformat_minor": 5
}
